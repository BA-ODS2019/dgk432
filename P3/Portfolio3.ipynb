{
 "cells": [
  {
   "cell_type": "markdown",
   "metadata": {},
   "source": [
    "Portfolio 3 handler om datasæt fra SMK. \n",
    "\n",
    "Spørgsmål 1 i afleveringen handler om at beskrive hvorfor, og hvad SMK tænker disse åbne datasæt kan anvendes til..\n",
    "\n",
    "SMK har valgt at stille deres samling til rådighed via API - projektet kaldes \"SMK OPEN\" og blev startet i 2016 med funding fra bl.a. NORDEA fonden. Digitaliseringen af de mange kunstværker har til formål at give adgang og åbne op for kunst, så mange flere kan få glæde af kunsten. I blog-indlægget(1) beskriver de lidt om bevæggrundene for, hvorfor de har taget dette initiativ. Dels for at synliggøre kunst for alle, også skoleklasser som eksempelvis ikke lige rejser mange timer gennem Danmark for at se \"udstillet materiale\", men primært for at få tilgængeliggjort og synliggjort kunstværker, da \"langt størstedelen af kunstsamlingen opbevares i magasiner og sjældent eller aldrig ser dagens lys. I magasinerne bor kunsten trygt og godt. Der bliver passet på den. Men hvad er meningen med al den kunst, hvis ingen får glæde af den?\".\n",
    "\n",
    "Meningen er, at det digitaliserede materiale/museets kunstværker kan hentes ned på ens computer, og man vil kunne bruge dem til lige det, man har lyst til.\n",
    "\n",
    "SMK begrunder selv, hvorfor de har besluttet at stille data til rådighed for alle deres digitaliserede værker via API således - \"Foruden præsentation på hjemmesiden vil al SMK’s data blive tilgængeliggjort via et såkaldt API. Hermed kan data bruges direkte af andre digitale tjenester (hjemmesider, apps osv.) så eksterne udviklere kan bygge digitale tjenester som trækker direkte på SMK’s data.deres API adgang ud fra \".\n",
    "\n",
    "Een APP som allerede er et resultat af disse åbne datasæt er VIZGU(2) der gør det lettere for besøgende på SMK at navigere i kunstværkerne, som udstilles. Man anvender APP´en, scanner lidt af det \"udstillede\" og får et svar retur med beskrivelser og supplerende information om værket man ser. \n",
    "\n",
    "SMK er ikke alene om at stille deres samlinger til rådighed - flere offentlige organisationer verden over sørger for at få digitaliseret materiale, samlinger og andet til gavn for offentligheden, for forskningen og for forståelse af den kultur vi lever i. I artiklen fra Medium beskriver Merete Sanderhoff netop, hvilke overvejelser man tænker modtagerne kan anvende disse data til:  \"This is opening up new powerful opportunities for citizens to engage with, study, repurpose and remix large sets of high quality trustworthy data collected by public institutions over many years.\"(3) og i den officielle blog-post fra Jonas Heide Smith(4) skriver han netop om målet som \"make the art collection of the Danish people actually usable. In a way that as many people as possible will be able to enjoy.\"\n",
    "\n",
    "SMKs digitale værker er i store træk indekseret via en form for kunstig intelligens. Denne proces omtales som \"algorithm gnomes\" - fantastisk begreb:) \n",
    "Ideen med API adgangen er netop, at data kan tilgåes uafhængigt af tid og rum, kan bearbejdes ud fra egne behov og ønsker, kan studeres i detaljer og bare i rette sammenhæng, kan dels, indsættes i alt fra bøger, websider, forskningsartikler til skoleopgaver, eller billeder kan genoptrykkes til at fra plakater til sofapuder(5). Ifølge den officielle projektbeskrivelse har SMK 2 konkrete målgrupper i tankerne - dels skolelærere, men også DIY folket (6). Skolelærerne for at få \"formidlet kunst og dannet børn og unge omkring vores fælles kulturarv, men også kreative og andre med interesse for at undersøge, genanvende og videreudvikle kunst værker i \"nye klæder\".\n",
    "1. https://www.smk.dk/article/kunsten-vil-gerne-vaere-fri/\n",
    "2. https://www.smk.dk/article/vizgu/\n",
    "3. https://medium.com/smk-open/smk-open-nominated-for-open-data-award-2018-e4b46e17bcf\n",
    "4. https://medium.com/smk-open/were-open-thoughts-on-building-a-new-home-for-smk-s-online-collection-9c9adbbe08a4\n",
    "5. https://open.smk.dk/about\n",
    "6. https://www.smk.dk/wp-content/uploads/2018/06/Projektbeskrivelse_SMK-Open.pdf\n"
   ]
  },
  {
   "cell_type": "markdown",
   "metadata": {},
   "source": [
    "SMK data hentes via https://www.smk.dk/article/smk-api/\n",
    "\n",
    "Jeg har valgt at søge på Matisse via GET -> art/search og ved at anvende feltet KEYS - jeg lod resten være standard.\n",
    "\n"
   ]
  },
  {
   "cell_type": "code",
   "execution_count": null,
   "metadata": {},
   "outputs": [],
   "source": []
  }
 ],
 "metadata": {
  "kernelspec": {
   "display_name": "Python 3",
   "language": "python",
   "name": "python3"
  },
  "language_info": {
   "codemirror_mode": {
    "name": "ipython",
    "version": 3
   },
   "file_extension": ".py",
   "mimetype": "text/x-python",
   "name": "python",
   "nbconvert_exporter": "python",
   "pygments_lexer": "ipython3",
   "version": "3.7.3"
  }
 },
 "nbformat": 4,
 "nbformat_minor": 2
}
